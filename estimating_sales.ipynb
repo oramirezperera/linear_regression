{
  "nbformat": 4,
  "nbformat_minor": 0,
  "metadata": {
    "colab": {
      "name": "estimating_sales.ipynb",
      "provenance": [],
      "authorship_tag": "ABX9TyNVrhEhUDhTEzucpvEnR/ku",
      "include_colab_link": true
    },
    "kernelspec": {
      "name": "python3",
      "display_name": "Python 3"
    },
    "language_info": {
      "name": "python"
    }
  },
  "cells": [
    {
      "cell_type": "markdown",
      "metadata": {
        "id": "view-in-github",
        "colab_type": "text"
      },
      "source": [
        "<a href=\"https://colab.research.google.com/github/oramirezperera/linear_regression/blob/main/estimating_sales.ipynb\" target=\"_parent\"><img src=\"https://colab.research.google.com/assets/colab-badge.svg\" alt=\"Open In Colab\"/></a>"
      ]
    },
    {
      "cell_type": "markdown",
      "metadata": {
        "id": "S-ulkbcEN1bU"
      },
      "source": [
        "The sales of a company (in million dollars) for each year are shown in the table below.\n",
        "x (year)\t2015,\t2016,\t2017,\t2018,\t2019\n",
        "\n",
        "y (sales)\t12,\t19,\t29,\t37,\t45\n",
        "\n",
        "a) Find the least square regression line y = a x + b.\n",
        "b) Use the least squares regression line as a model to estimate the sales of the company in 2022."
      ]
    },
    {
      "cell_type": "markdown",
      "metadata": {
        "id": "OjtHfzFqOIln"
      },
      "source": [
        "First of all we import our dependencies"
      ]
    },
    {
      "cell_type": "markdown",
      "metadata": {
        "id": "wkv7paycOMdF"
      },
      "source": [
        "## Dependencies"
      ]
    },
    {
      "cell_type": "code",
      "metadata": {
        "id": "z102oJ-yNqCv"
      },
      "source": [
        "import numpy as np\n",
        "import matplotlib.pyplot as plt"
      ],
      "execution_count": null,
      "outputs": []
    },
    {
      "cell_type": "markdown",
      "metadata": {
        "id": "nd9A3egqOTRR"
      },
      "source": [
        "Then we create the function to calculate the linear regression manually"
      ]
    },
    {
      "cell_type": "markdown",
      "metadata": {
        "id": "Uth_2ZMRObsc"
      },
      "source": [
        "## Linear regression"
      ]
    },
    {
      "cell_type": "code",
      "metadata": {
        "id": "HLAO9a8BOSeY"
      },
      "source": [
        "def estimate_b0_b1(x, y):\n",
        "  n = np.size(x)\n",
        "\n",
        "  m_x, m_y = np.mean(x), np.mean(y) # m_x and m_y stands for x mean and y mean\n",
        "\n",
        "  # calculate sum of XY and XX\n",
        "  sum_xy = np.sum((x-m_x) * (y-m_y))\n",
        "  sum_xx = np.sum((x-m_x)**2)\n",
        "\n",
        "  # regression coefficients\n",
        "  b1 = sum_xy / sum_xx\n",
        "  b0 = m_y - b1*m_x\n",
        "\n",
        "  return b0, b1"
      ],
      "execution_count": null,
      "outputs": []
    },
    {
      "cell_type": "markdown",
      "metadata": {
        "id": "5A11YEE4OiW8"
      },
      "source": [
        "after that we create a graph function to see the linear regression we created"
      ]
    },
    {
      "cell_type": "code",
      "metadata": {
        "id": "lsI7Kl2rRiSC"
      },
      "source": [
        "# graph function\n",
        "def plot_regression(x, y, b):\n",
        "  plt.scatter(x, y, color='b', marker='o', s=30)\n",
        "\n",
        "  y_pred = b[0] + b[1] * x # pred for predictions\n",
        "  plt.plot(x, y_pred, color='g')\n",
        "\n",
        "  #label\n",
        "  plt.xlabel('x years after 2005')\n",
        "  plt.ylabel('y sells in million dollars')\n",
        "\n",
        "  plt.show()"
      ],
      "execution_count": null,
      "outputs": []
    },
    {
      "cell_type": "markdown",
      "metadata": {
        "id": "7KCiWL6ZR2vO"
      },
      "source": [
        "Then we create the main function with our data set and the "
      ]
    },
    {
      "cell_type": "code",
      "metadata": {
        "id": "64KBdg2OTCFj"
      },
      "source": [
        "def estimation_sales(year, b):\n",
        "    \"\"\" this function gets the independent variable x, or the year we want to estimate the sales, and the parameter b of the linear regression\n",
        "    and return the sales estimation for that year \"\"\"\n",
        "\n",
        "    return b[0] + b[1] * x\n"
      ],
      "execution_count": null,
      "outputs": []
    },
    {
      "cell_type": "code",
      "metadata": {
        "colab": {
          "base_uri": "https://localhost:8080/",
          "height": 313
        },
        "id": "ACwvrWZmSJeI",
        "outputId": "4ee24513-1725-4289-cab9-52268e6dbceb"
      },
      "source": [
        "\n",
        "def main():\n",
        "  # dataset\n",
        "  # for the years in x we change the years 2015, 2016, etc to year - 2015\n",
        "  x = np.array([0, 1, 2, 3, 4])\n",
        "  y = np.array([12, 19, 29, 37, 45])\n",
        "\n",
        "  # estimation b0 and b1\n",
        "  b = estimate_b0_b1(x, y)\n",
        "  print(f'The value of b0 is {b[0]}, and b1 is {b[1]}')\n",
        "\n",
        "  year_to_estimate = 2022 # This is the year we want to estimate, change this number to change the year of estimation in the linear regression\n",
        "\n",
        "  year = year_to_estimate - 2015 # Transforming the year we want to estimate to a simpler format\n",
        "\n",
        "  sales = estimation_sales(year, b)\n",
        "\n",
        "  print(f'The sales in the year {year_to_estimate} will be around {sales} million dollars')\n",
        "\n",
        "  plot_regression(x, y, b) # b comes from b0 and b1\n",
        "  \n",
        "  \n",
        "main()"
      ],
      "execution_count": null,
      "outputs": [
        {
          "output_type": "stream",
          "text": [
            "The value of b0 is 11.599999999999998, and b1 is 8.4\n",
            "The sales in the year 2022 will be around 70.4 million dollars\n"
          ],
          "name": "stdout"
        },
        {
          "output_type": "display_data",
          "data": {
            "image/png": "[encoded data removed]",
            "text/plain": [
              "<Figure size 432x288 with 1 Axes>"
            ]
          },
          "metadata": {
            "tags": [],
            "needs_background": "light"
          }
        }
      ]
    },
    {
      "cell_type": "markdown",
      "metadata": {
        "id": "GJIs10ooTC_e"
      },
      "source": [
        "As we can see in the graph the value of b0 is around 11.5999 and the value of b1 is 8.4.\n",
        "\n",
        "We used this values of b0 and b1 to estimate the sales in the year 2012, having a estimation of 70.4 million dollars of sales for that year."
      ]
    }
  ]
}